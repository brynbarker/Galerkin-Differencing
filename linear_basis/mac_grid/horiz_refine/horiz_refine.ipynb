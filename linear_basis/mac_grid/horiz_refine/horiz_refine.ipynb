{
 "cells": [
  {
   "cell_type": "markdown",
   "id": "589ae57b-01b8-4bad-825b-1b189161e910",
   "metadata": {},
   "source": [
    "##### horizontal refine"
   ]
  },
  {
   "cell_type": "code",
   "execution_count": 1,
   "id": "2fda7650-8e42-442f-a0ef-b1221a8444a1",
   "metadata": {},
   "outputs": [],
   "source": [
    "import sys\n",
    "sys.path.append(\"/home/bbb/Code/Galerkin-Differencing/\")\n",
    "from horiz_classes import *\n",
    "import numpy as np\n",
    "import matplotlib.pyplot as plt\n",
    "from matplotlib.animation import FuncAnimation\n",
    "from IPython.display import HTML\n",
    "from linear_basis.mac_grid.helpers import gauss\n",
    "# %matplotlib widget"
   ]
  },
  {
   "cell_type": "code",
   "execution_count": 2,
   "id": "f210de3b-2d4c-4e37-8bf0-6d87a9b4d591",
   "metadata": {},
   "outputs": [],
   "source": [
    "def rowprint(m,ind,sys,U):\n",
    "    first = True\n",
    "    print((sys.mesh.dofs[ind].x,sys.mesh.dofs[ind].y),sys.mesh.dofs[ind].h,U[ind],sep='\\t')\n",
    "    for j,v in enumerate(m[ind]):\n",
    "        if abs(v)<1e-12:\n",
    "            if first:\n",
    "                print()\n",
    "                first=False\n",
    "            else:\n",
    "                pass\n",
    "        else:\n",
    "            x,y = sys.mesh.dofs[j].x,sys.mesh.dofs[j].y\n",
    "            print(j,v,(x,y),sys.mesh.dofs[j].h,U[j],sep='\\t')\n",
    "            first=True\n",
    "def matvis(m):\n",
    "    vism = m.copy()\n",
    "    vism[vism == 0] = np.nan\n",
    "    plt.matshow(vism)\n",
    "    plt.show()"
   ]
  },
  {
   "cell_type": "markdown",
   "id": "161c85d0-53e7-41f8-8ddf-8f47bd8142ec",
   "metadata": {},
   "source": [
    "## mass"
   ]
  },
  {
   "cell_type": "markdown",
   "id": "9a585dfa-dd9c-4518-ad14-b801148c0eeb",
   "metadata": {},
   "source": [
    "#### constant test"
   ]
  },
  {
   "cell_type": "code",
   "execution_count": 3,
   "id": "bc0c753f-6af8-4b67-9b7f-6518d6625405",
   "metadata": {},
   "outputs": [],
   "source": [
    "N = 4\n",
    "u = lambda x,y: 1\n",
    "href = HorizontalRefineSolver(N,u)"
   ]
  },
  {
   "cell_type": "code",
   "execution_count": 4,
   "id": "3f999dbf-a39f-4a19-b3c8-23a7236c2fbf",
   "metadata": {},
   "outputs": [
    {
     "ename": "TypeError",
     "evalue": "HorizontalRefineSolver.vis_periodic() missing 1 required positional argument: 'dofs'",
     "output_type": "error",
     "traceback": [
      "\u001b[0;31m---------------------------------------------------------------------------\u001b[0m",
      "\u001b[0;31mTypeError\u001b[0m                                 Traceback (most recent call last)",
      "Cell \u001b[0;32mIn[4], line 1\u001b[0m\n\u001b[0;32m----> 1\u001b[0m \u001b[43mhref\u001b[49m\u001b[38;5;241;43m.\u001b[39;49m\u001b[43mvis_periodic\u001b[49m\u001b[43m(\u001b[49m\u001b[43m)\u001b[49m\n",
      "\u001b[0;31mTypeError\u001b[0m: HorizontalRefineSolver.vis_periodic() missing 1 required positional argument: 'dofs'"
     ]
    }
   ],
   "source": [
    "href.vis_periodic()"
   ]
  },
  {
   "cell_type": "code",
   "execution_count": null,
   "id": "8ba91167-1b5e-418b-928e-caee35796602",
   "metadata": {},
   "outputs": [],
   "source": [
    "href.projection()"
   ]
  },
  {
   "cell_type": "code",
   "execution_count": null,
   "id": "45c131bc-44d7-4256-aeda-2fcf4a04917f",
   "metadata": {},
   "outputs": [],
   "source": [
    "np.linalg.eig(href.C.T@href.M@href.C)[0]"
   ]
  },
  {
   "cell_type": "code",
   "execution_count": null,
   "id": "51f142dd-5247-4619-b855-143e29eb95f7",
   "metadata": {},
   "outputs": [],
   "source": [
    "np.array(href.mesh.periodic[0]).reshape((4,-1))"
   ]
  },
  {
   "cell_type": "code",
   "execution_count": null,
   "id": "68ecc469-bc1e-4b69-887e-827325fcb4e2",
   "metadata": {},
   "outputs": [],
   "source": [
    "fig = href.vis_constraints()"
   ]
  },
  {
   "cell_type": "code",
   "execution_count": null,
   "id": "d9386902-0a6f-4061-84d6-6e3448e10463",
   "metadata": {},
   "outputs": [],
   "source": [
    "href.error(proj=True)"
   ]
  },
  {
   "cell_type": "code",
   "execution_count": null,
   "id": "a8476d92-4e0f-456d-847e-e53fc1771c15",
   "metadata": {},
   "outputs": [],
   "source": [
    "href.vis_mesh()"
   ]
  },
  {
   "cell_type": "code",
   "execution_count": null,
   "id": "91f0120b-eb83-4a86-bb4c-8d46b1088abd",
   "metadata": {},
   "outputs": [],
   "source": [
    "href.vis_dof_sol(proj=True)"
   ]
  },
  {
   "cell_type": "code",
   "execution_count": null,
   "id": "805f7fc7-feef-457f-a9da-8e6f30852b56",
   "metadata": {},
   "outputs": [],
   "source": [
    "N = 2\n",
    "u = lambda x,y: x**2+y**2\n",
    "href = HorizontalRefineSolver(N,u)"
   ]
  },
  {
   "cell_type": "code",
   "execution_count": null,
   "id": "4cecff3d-559a-4b1b-82f0-3ff927301569",
   "metadata": {},
   "outputs": [],
   "source": [
    "href.projection()"
   ]
  },
  {
   "cell_type": "code",
   "execution_count": null,
   "id": "6df55ec2-9279-458f-a447-e42c015eb263",
   "metadata": {},
   "outputs": [],
   "source": [
    "er0 = href.error(proj=True)\n",
    "er0, er0/4"
   ]
  },
  {
   "cell_type": "code",
   "execution_count": null,
   "id": "b2ac37db-70f4-495b-adb3-6879d78dc8a5",
   "metadata": {},
   "outputs": [],
   "source": []
  },
  {
   "cell_type": "code",
   "execution_count": null,
   "id": "7ff7682c-8b97-4df3-b21e-3d60802cfa28",
   "metadata": {},
   "outputs": [],
   "source": [
    "N = 4\n",
    "href = HorizontalRefineSolver(N,u)\n",
    "href.projection()\n",
    "er1 = href.error(proj=True)\n",
    "er1, er1/4"
   ]
  },
  {
   "cell_type": "code",
   "execution_count": null,
   "id": "787ea2e9-28f6-4cd3-b1ae-57795d709852",
   "metadata": {},
   "outputs": [],
   "source": [
    "N = 8\n",
    "href = HorizontalRefineSolver(N,u)\n",
    "href.projection()\n",
    "er2 = href.error(proj=True)\n",
    "er2, er2/4"
   ]
  },
  {
   "cell_type": "markdown",
   "id": "e5b73d36-bbd5-45b8-8cdd-e4ee8e7ff42a",
   "metadata": {},
   "source": [
    "#### convergence"
   ]
  },
  {
   "cell_type": "code",
   "execution_count": null,
   "id": "2a417878-209c-4edc-8810-1cd91ce82913",
   "metadata": {},
   "outputs": [],
   "source": [
    "u = lambda x,y: np.sin(2*np.pi*x)*np.cos(2*np.pi*y)\n",
    "\n",
    "errs = []\n",
    "Ns = np.array([2,4,8,16,32])\n",
    "for N in Ns:\n",
    "    href = HorizontalRefineSolver(N,u)\n",
    "    href.projection()\n",
    "    err = href.error(proj=True)\n",
    "    errs.append(err)\n",
    "\n",
    "plt.loglog(Ns,errs,label=r'$||u-u_h||_{L_2}$')\n",
    "plt.loglog(Ns,1/Ns,label=r'$h$')\n",
    "plt.loglog(Ns,1/Ns**2,label=r'$h^2$')\n",
    "plt.legend()\n",
    "plt.title('Horizontal Refinement w Mass Matrix')\n",
    "plt.savefig('href_mass_conv.png',dpi=300)\n",
    "plt.show()"
   ]
  },
  {
   "cell_type": "markdown",
   "id": "4dcd0c70-5ffb-47ce-b9a6-8f9a2f88880d",
   "metadata": {},
   "source": [
    "## laplace"
   ]
  },
  {
   "cell_type": "markdown",
   "id": "d1e2931c-79f5-419d-a214-2eb583e9f2be",
   "metadata": {},
   "source": [
    "#### constant test"
   ]
  },
  {
   "cell_type": "code",
   "execution_count": null,
   "id": "b74da054-89ef-4afd-bbe6-6f293d0c5cf2",
   "metadata": {},
   "outputs": [],
   "source": [
    "N = 4\n",
    "u = lambda x,y: 1\n",
    "f = lambda x,y: 0\n",
    "href = HorizontalRefineSolver(N,u,f)"
   ]
  },
  {
   "cell_type": "code",
   "execution_count": null,
   "id": "00701975-7b76-420d-80ca-96bd2fd9c2b0",
   "metadata": {},
   "outputs": [],
   "source": [
    "href.vis_mesh()"
   ]
  },
  {
   "cell_type": "code",
   "execution_count": null,
   "id": "5dd0b938-883e-4770-91c4-d6ba9fba905c",
   "metadata": {},
   "outputs": [],
   "source": [
    "href.vis_periodic()"
   ]
  },
  {
   "cell_type": "code",
   "execution_count": null,
   "id": "42c0c399-f635-41e1-99f1-2839b5c3555c",
   "metadata": {},
   "outputs": [],
   "source": [
    "fig=href.vis_constraints()"
   ]
  },
  {
   "cell_type": "code",
   "execution_count": null,
   "id": "b2700d04-79fc-4eb9-9db8-4e1e55508e93",
   "metadata": {},
   "outputs": [],
   "source": [
    "href.laplace()"
   ]
  },
  {
   "cell_type": "code",
   "execution_count": null,
   "id": "8197a600-e04d-4311-8844-f3d33ce65bd4",
   "metadata": {},
   "outputs": [],
   "source": [
    "np.linalg.eig(href.C.T@href.K@href.C)[0]"
   ]
  },
  {
   "cell_type": "code",
   "execution_count": null,
   "id": "4a2d24e3-67c6-4e6a-bc8c-c63e8d229758",
   "metadata": {},
   "outputs": [],
   "source": [
    "matvis(href.C)"
   ]
  },
  {
   "cell_type": "code",
   "execution_count": null,
   "id": "36fa37bb-1a5c-4a20-8d56-c82a43d281c2",
   "metadata": {},
   "outputs": [],
   "source": [
    "matvis(href.C.T@href.K@href.C)"
   ]
  },
  {
   "cell_type": "code",
   "execution_count": null,
   "id": "32ec97d8-3454-4e9f-b586-35b1b98105ec",
   "metadata": {},
   "outputs": [],
   "source": [
    "href.error()"
   ]
  },
  {
   "cell_type": "code",
   "execution_count": null,
   "id": "085f32b4-5b94-436e-bd99-e0013e61b9f4",
   "metadata": {},
   "outputs": [],
   "source": [
    "N = 4\n",
    "u = lambda x,y: x\n",
    "f = lambda x,y: 0\n",
    "href = HorizontalRefineSolver(N,u,f)"
   ]
  },
  {
   "cell_type": "code",
   "execution_count": null,
   "id": "47cacbb9-ccfb-4b9f-bed0-a7a43d130668",
   "metadata": {},
   "outputs": [],
   "source": [
    "href.laplace()\n",
    "href.error()"
   ]
  },
  {
   "cell_type": "code",
   "execution_count": null,
   "id": "bcece9a5-3b46-47c5-8042-6b86a83d2ffa",
   "metadata": {},
   "outputs": [],
   "source": [
    "href.vis_dof_sol(err=True)"
   ]
  },
  {
   "cell_type": "code",
   "execution_count": null,
   "id": "c67cd25e-9a11-43b8-bfcb-bf533a572002",
   "metadata": {},
   "outputs": [],
   "source": [
    "href."
   ]
  },
  {
   "cell_type": "code",
   "execution_count": null,
   "id": "bb879367-0bd6-446e-b749-6a485ccdbd48",
   "metadata": {},
   "outputs": [],
   "source": [
    "fig = href.vis_constraints()"
   ]
  },
  {
   "cell_type": "code",
   "execution_count": null,
   "id": "1794cf1c-8b57-4514-8aff-4ad44b2c5f6f",
   "metadata": {},
   "outputs": [],
   "source": [
    "href.vis_mesh()"
   ]
  },
  {
   "cell_type": "code",
   "execution_count": null,
   "id": "80035c3c-d572-4557-8ef4-9115a9b7457b",
   "metadata": {},
   "outputs": [],
   "source": [
    "# for n = 8\n",
    "\n",
    "rowprint(href.K,6,href,href.U_lap)\n",
    "print()\n",
    "rowprint(href.K,9,href,href.U_lap)\n",
    "print()\n",
    "rowprint(href.K,24,href,href.U_lap)\n",
    "print()\n",
    "rowprint(href.K,21,href,href.U_lap)"
   ]
  },
  {
   "cell_type": "code",
   "execution_count": null,
   "id": "47c3ef8d-80f8-4680-a52c-5128e2ed108d",
   "metadata": {},
   "outputs": [],
   "source": [
    "# for n = 8\n",
    "\n",
    "rowprint(href.K,63,href,href.U_lap)\n",
    "print()\n",
    "rowprint(href.K,59,href,href.U_lap)\n",
    "print()\n",
    "print(href.C_full[59])\n",
    "print()\n",
    "rowprint(href.K,122,href,href.U_lap)\n",
    "print()\n",
    "rowprint(href.K,126,href,href.U_lap)"
   ]
  },
  {
   "cell_type": "code",
   "execution_count": null,
   "id": "b4f41cde-71e3-4499-87c2-5d3c2079b0bb",
   "metadata": {},
   "outputs": [],
   "source": [
    "N = 2\n",
    "u = lambda x,y: x**2+y**2\n",
    "href = HorizontalRefineSolver(N,u)"
   ]
  },
  {
   "cell_type": "code",
   "execution_count": null,
   "id": "70fd32a2-80fc-408b-9e57-ba58ebaa3cc2",
   "metadata": {},
   "outputs": [],
   "source": [
    "href.projection()"
   ]
  },
  {
   "cell_type": "code",
   "execution_count": null,
   "id": "b74f3315-8f1e-4fd6-b5ce-0a6e572bccd1",
   "metadata": {},
   "outputs": [],
   "source": [
    "er0 = href.error(proj=True)\n",
    "er0, er0/4"
   ]
  },
  {
   "cell_type": "code",
   "execution_count": null,
   "id": "0e318d1d-b0c1-4df5-bc70-f657943f1374",
   "metadata": {},
   "outputs": [],
   "source": []
  },
  {
   "cell_type": "code",
   "execution_count": null,
   "id": "6d03d558-d075-45ea-bbdf-b16c668c310a",
   "metadata": {},
   "outputs": [],
   "source": [
    "N = 4\n",
    "href = HorizontalRefineSolver(N,u)\n",
    "href.projection()\n",
    "er1 = href.error(proj=True)\n",
    "er1, er1/4"
   ]
  },
  {
   "cell_type": "code",
   "execution_count": null,
   "id": "b2356eef-a62b-4dac-9243-2c1b9a5681ae",
   "metadata": {},
   "outputs": [],
   "source": [
    "N = 8\n",
    "href = HorizontalRefineSolver(N,u)\n",
    "href.projection()\n",
    "er2 = href.error(proj=True)\n",
    "er2, er2/4"
   ]
  },
  {
   "cell_type": "markdown",
   "id": "acc47d87-dbdf-4617-92d6-7e7e8ae2be51",
   "metadata": {},
   "source": [
    "#### convergence"
   ]
  },
  {
   "cell_type": "code",
   "execution_count": null,
   "id": "87541167-cb74-4fc6-8b9f-e12976111bd9",
   "metadata": {},
   "outputs": [],
   "source": [
    "u = lambda x,y: np.sin(2*np.pi*x)*np.cos(2*np.pi*y)\n",
    "f = lambda x,y: 8*np.pi**2*np.sin(2*np.pi*x)*np.cos(2*np.pi*y)\n",
    "\n",
    "errs = []\n",
    "Ns = np.array([4,8,16,32,64])\n",
    "for N in Ns:\n",
    "    href = HorizontalRefineSolver(N,u)\n",
    "    href.projection()\n",
    "    err = href.error(proj=True)\n",
    "    errs.append(err)\n",
    "\n",
    "plt.loglog(Ns,errs,label=r'$||u-u_h||_{L_2}$')\n",
    "plt.loglog(Ns,1/Ns,label=r'$h$')\n",
    "plt.loglog(Ns,1/Ns**2,label=r'$h^2$')\n",
    "plt.legend()\n",
    "plt.title('Horizontal Refinement w Mass Matrix')\n",
    "plt.savefig('href_mass_conv.png',dpi=300)\n",
    "plt.show()"
   ]
  },
  {
   "cell_type": "code",
   "execution_count": null,
   "id": "4a419f69-49a5-468a-9f5b-57fcbab4bf38",
   "metadata": {},
   "outputs": [],
   "source": [
    "dof_vis = href.vis_dofs()"
   ]
  },
  {
   "cell_type": "code",
   "execution_count": null,
   "id": "041255d9-217e-4d6e-aef9-758e4d13113a",
   "metadata": {},
   "outputs": [],
   "source": [
    "dof_vis"
   ]
  },
  {
   "cell_type": "code",
   "execution_count": null,
   "id": "3860b151-a01c-4a7c-9195-82dea036f6fd",
   "metadata": {},
   "outputs": [],
   "source": [
    "el_vis = href.vis_elements()"
   ]
  },
  {
   "cell_type": "code",
   "execution_count": null,
   "id": "6ada77da-cdd7-4a86-ae68-527d56db0cc8",
   "metadata": {},
   "outputs": [],
   "source": [
    "el_vis"
   ]
  },
  {
   "cell_type": "code",
   "execution_count": null,
   "id": "2094d391-e9d7-4b8b-aeef-2dbe93c1f07a",
   "metadata": {},
   "outputs": [],
   "source": []
  },
  {
   "cell_type": "code",
   "execution_count": null,
   "id": "8eba1092-3f7d-4da6-b5fc-f3fef6afe08d",
   "metadata": {},
   "outputs": [],
   "source": []
  },
  {
   "cell_type": "code",
   "execution_count": null,
   "id": "28f76da4-e1d5-4d12-8cba-f34ce0c1b6ce",
   "metadata": {},
   "outputs": [],
   "source": [
    "lap.mesh.boundaries"
   ]
  },
  {
   "cell_type": "code",
   "execution_count": null,
   "id": "a511777e-3fd2-43dd-9eb8-50f24828c0ee",
   "metadata": {},
   "outputs": [],
   "source": []
  },
  {
   "cell_type": "code",
   "execution_count": null,
   "id": "7c270a87-4b74-4007-882f-a65ee5c183a0",
   "metadata": {},
   "outputs": [],
   "source": []
  },
  {
   "cell_type": "code",
   "execution_count": null,
   "id": "576d9266-510f-4c89-a55f-9b95ed360f2a",
   "metadata": {},
   "outputs": [],
   "source": []
  }
 ],
 "metadata": {
  "kernelspec": {
   "display_name": "Python 3 (ipykernel)",
   "language": "python",
   "name": "python3"
  },
  "language_info": {
   "codemirror_mode": {
    "name": "ipython",
    "version": 3
   },
   "file_extension": ".py",
   "mimetype": "text/x-python",
   "name": "python",
   "nbconvert_exporter": "python",
   "pygments_lexer": "ipython3",
   "version": "3.10.12"
  }
 },
 "nbformat": 4,
 "nbformat_minor": 5
}
