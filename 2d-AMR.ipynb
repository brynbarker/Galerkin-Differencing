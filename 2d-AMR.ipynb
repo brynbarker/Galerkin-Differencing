{
 "cells": [
  {
   "cell_type": "code",
   "execution_count": 4,
   "id": "2fda7650-8e42-442f-a0ef-b1221a8444a1",
   "metadata": {},
   "outputs": [],
   "source": [
    "from classes import *\n",
    "from helpers import *\n",
    "import numpy as np\n",
    "import matplotlib.pyplot as plt"
   ]
  },
  {
   "cell_type": "code",
   "execution_count": null,
   "id": "07de760d-c5e9-4c2a-9b24-11fcd8a1d150",
   "metadata": {},
   "outputs": [],
   "source": []
  }
 ],
 "metadata": {
  "kernelspec": {
   "display_name": "Python 3 (ipykernel)",
   "language": "python",
   "name": "python3"
  },
  "language_info": {
   "codemirror_mode": {
    "name": "ipython",
    "version": 3
   },
   "file_extension": ".py",
   "mimetype": "text/x-python",
   "name": "python",
   "nbconvert_exporter": "python",
   "pygments_lexer": "ipython3",
   "version": "3.10.12"
  }
 },
 "nbformat": 4,
 "nbformat_minor": 5
}
